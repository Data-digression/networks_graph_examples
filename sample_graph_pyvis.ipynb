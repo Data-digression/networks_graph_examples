{
 "cells": [
  {
   "cell_type": "code",
   "execution_count": 44,
   "metadata": {},
   "outputs": [],
   "source": [
    "import networkx as nx\n",
    "from pyvis.network import Network\n",
    "\n",
    "G2 = nx.DiGraph()\n",
    "G2.add_node(1, label='user 1' )\n",
    "G2.add_node(2, label='user 2' )\n",
    "G2.add_node(3, label='user 3' )\n",
    "G2.add_edge(3, 2, color='green')\n",
    "G2.add_edge(2, 3, color='blue')\n",
    "G2.add_edge(3, 1, color='blue')\n",
    "\n",
    "nt2 = Network(height='500px', width='100%', heading='', directed=True)\n",
    "nt2.from_nx(G2)\n",
    "nt2.show('nx2.html')"
   ]
  }
 ],
 "metadata": {
  "kernelspec": {
   "display_name": "venv",
   "language": "python",
   "name": "python3"
  },
  "language_info": {
   "codemirror_mode": {
    "name": "ipython",
    "version": 3
   },
   "file_extension": ".py",
   "mimetype": "text/x-python",
   "name": "python",
   "nbconvert_exporter": "python",
   "pygments_lexer": "ipython3",
   "version": "3.8.10"
  },
  "orig_nbformat": 4,
  "vscode": {
   "interpreter": {
    "hash": "9c1223aa8e5b4c4b97cd2053f13fd728766d2d1f42e5e6b77419691a9e1900ff"
   }
  }
 },
 "nbformat": 4,
 "nbformat_minor": 2
}
