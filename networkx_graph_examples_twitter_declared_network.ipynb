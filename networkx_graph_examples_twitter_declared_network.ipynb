{
 "cells": [
  {
   "cell_type": "code",
   "execution_count": 1,
   "metadata": {},
   "outputs": [],
   "source": [
    "import tweepy\n",
    "import configparser \n",
    "import pandas as pd\n",
    "from tinydb import TinyDB, Query, Storage\n",
    "import networkx as nx\n",
    "import matplotlib as mpl\n",
    "import matplotlib.pyplot as plt\n",
    "import scipy\n",
    "from pyvis.network import Network\n"
   ]
  },
  {
   "cell_type": "code",
   "execution_count": 2,
   "metadata": {},
   "outputs": [],
   "source": [
    "config = configparser.ConfigParser(interpolation=None)\n",
    "config.read('config.ini')\n",
    "\n",
    "bearer_token = config['twitter']['bearer_token']\n",
    "client = tweepy.Client(bearer_token=bearer_token, return_type = dict, wait_on_rate_limit=True)\n"
   ]
  },
  {
   "attachments": {},
   "cell_type": "markdown",
   "metadata": {},
   "source": [
    "### Getting a basic list of tweets"
   ]
  },
  {
   "cell_type": "code",
   "execution_count": 16,
   "metadata": {},
   "outputs": [],
   "source": [
    "tweets = client.search_recent_tweets(\"barcelona\", expansions=['author_id'], user_fields=['username'], max_results=10)"
   ]
  },
  {
   "cell_type": "code",
   "execution_count": 17,
   "metadata": {},
   "outputs": [
    {
     "data": {
      "text/html": [
       "<div>\n",
       "<style scoped>\n",
       "    .dataframe tbody tr th:only-of-type {\n",
       "        vertical-align: middle;\n",
       "    }\n",
       "\n",
       "    .dataframe tbody tr th {\n",
       "        vertical-align: top;\n",
       "    }\n",
       "\n",
       "    .dataframe thead th {\n",
       "        text-align: right;\n",
       "    }\n",
       "</style>\n",
       "<table border=\"1\" class=\"dataframe\">\n",
       "  <thead>\n",
       "    <tr style=\"text-align: right;\">\n",
       "      <th></th>\n",
       "      <th>author_id</th>\n",
       "      <th>id_x</th>\n",
       "      <th>text</th>\n",
       "      <th>edit_history_tweet_ids</th>\n",
       "      <th>id_y</th>\n",
       "      <th>name</th>\n",
       "      <th>username</th>\n",
       "    </tr>\n",
       "  </thead>\n",
       "  <tbody>\n",
       "    <tr>\n",
       "      <th>0</th>\n",
       "      <td>1071094302737088513</td>\n",
       "      <td>1604222981399609349</td>\n",
       "      <td>RT @JordiGraupera: Ahir, després d'anar a veur...</td>\n",
       "      <td>[1604222981399609349]</td>\n",
       "      <td>1071094302737088513</td>\n",
       "      <td>Cornelius☠</td>\n",
       "      <td>Corneli66092024</td>\n",
       "    </tr>\n",
       "    <tr>\n",
       "      <th>1</th>\n",
       "      <td>234015473</td>\n",
       "      <td>1604222978023198721</td>\n",
       "      <td>RT @JordiGraupera: Ahir, després d'anar a veur...</td>\n",
       "      <td>[1604222978023198721]</td>\n",
       "      <td>234015473</td>\n",
       "      <td>joanescapa - Més que escaldat</td>\n",
       "      <td>joanescapa</td>\n",
       "    </tr>\n",
       "    <tr>\n",
       "      <th>2</th>\n",
       "      <td>259396697</td>\n",
       "      <td>1604222969869467650</td>\n",
       "      <td>RT @BoigBCN: Portal de l'Àngel. Barcelona, Nad...</td>\n",
       "      <td>[1604222969869467650]</td>\n",
       "      <td>259396697</td>\n",
       "      <td>Toni Vall</td>\n",
       "      <td>tonivall</td>\n",
       "    </tr>\n",
       "    <tr>\n",
       "      <th>3</th>\n",
       "      <td>619181925</td>\n",
       "      <td>1604222932502433792</td>\n",
       "      <td>RT @tallerlutier: La presència dels instrument...</td>\n",
       "      <td>[1604222932502433792]</td>\n",
       "      <td>619181925</td>\n",
       "      <td>Josep Maria Rebés</td>\n",
       "      <td>JMRebes</td>\n",
       "    </tr>\n",
       "    <tr>\n",
       "      <th>4</th>\n",
       "      <td>3296831620</td>\n",
       "      <td>1604222921739849728</td>\n",
       "      <td>RT @Tomiconcina1: Maradona se fue del Barcelon...</td>\n",
       "      <td>[1604222921739849728]</td>\n",
       "      <td>3296831620</td>\n",
       "      <td>Tona</td>\n",
       "      <td>TonarelliAgus</td>\n",
       "    </tr>\n",
       "    <tr>\n",
       "      <th>5</th>\n",
       "      <td>1081520083</td>\n",
       "      <td>1604222921517301760</td>\n",
       "      <td>Acabo de comprar el pasaje de mi hermanita par...</td>\n",
       "      <td>[1604222921517301760]</td>\n",
       "      <td>1081520083</td>\n",
       "      <td>Clau</td>\n",
       "      <td>claubabylongirl</td>\n",
       "    </tr>\n",
       "    <tr>\n",
       "      <th>6</th>\n",
       "      <td>1283207016585068547</td>\n",
       "      <td>1604222918749200385</td>\n",
       "      <td>Llegaron al límite de fracturarlo en un partid...</td>\n",
       "      <td>[1604222918749200385]</td>\n",
       "      <td>1283207016585068547</td>\n",
       "      <td>Matemático hípico</td>\n",
       "      <td>Matematicohipi1</td>\n",
       "    </tr>\n",
       "    <tr>\n",
       "      <th>7</th>\n",
       "      <td>2150299375</td>\n",
       "      <td>1604222906975895554</td>\n",
       "      <td>RT @LaRepublicaCat: L'alcaldable d'ERC a la ci...</td>\n",
       "      <td>[1604222906975895554]</td>\n",
       "      <td>2150299375</td>\n",
       "      <td>ramon bm</td>\n",
       "      <td>ramonbamo</td>\n",
       "    </tr>\n",
       "    <tr>\n",
       "      <th>8</th>\n",
       "      <td>1458046672580358147</td>\n",
       "      <td>1604222905709215744</td>\n",
       "      <td>RT @SocialDrive_es: Roban a un conductor mient...</td>\n",
       "      <td>[1604222905709215744]</td>\n",
       "      <td>1458046672580358147</td>\n",
       "      <td>aprendelotodoytiraloalabasura</td>\n",
       "      <td>AprendelotodoY</td>\n",
       "    </tr>\n",
       "    <tr>\n",
       "      <th>9</th>\n",
       "      <td>984840763715530752</td>\n",
       "      <td>1604222897530224642</td>\n",
       "      <td>Bona nit 😉🎄 #streetphotography #fotografia #Ba...</td>\n",
       "      <td>[1604222897530224642]</td>\n",
       "      <td>984840763715530752</td>\n",
       "      <td>La Chumbera</td>\n",
       "      <td>LChumbera</td>\n",
       "    </tr>\n",
       "  </tbody>\n",
       "</table>\n",
       "</div>"
      ],
      "text/plain": [
       "             author_id                 id_x  \\\n",
       "0  1071094302737088513  1604222981399609349   \n",
       "1            234015473  1604222978023198721   \n",
       "2            259396697  1604222969869467650   \n",
       "3            619181925  1604222932502433792   \n",
       "4           3296831620  1604222921739849728   \n",
       "5           1081520083  1604222921517301760   \n",
       "6  1283207016585068547  1604222918749200385   \n",
       "7           2150299375  1604222906975895554   \n",
       "8  1458046672580358147  1604222905709215744   \n",
       "9   984840763715530752  1604222897530224642   \n",
       "\n",
       "                                                text edit_history_tweet_ids  \\\n",
       "0  RT @JordiGraupera: Ahir, després d'anar a veur...  [1604222981399609349]   \n",
       "1  RT @JordiGraupera: Ahir, després d'anar a veur...  [1604222978023198721]   \n",
       "2  RT @BoigBCN: Portal de l'Àngel. Barcelona, Nad...  [1604222969869467650]   \n",
       "3  RT @tallerlutier: La presència dels instrument...  [1604222932502433792]   \n",
       "4  RT @Tomiconcina1: Maradona se fue del Barcelon...  [1604222921739849728]   \n",
       "5  Acabo de comprar el pasaje de mi hermanita par...  [1604222921517301760]   \n",
       "6  Llegaron al límite de fracturarlo en un partid...  [1604222918749200385]   \n",
       "7  RT @LaRepublicaCat: L'alcaldable d'ERC a la ci...  [1604222906975895554]   \n",
       "8  RT @SocialDrive_es: Roban a un conductor mient...  [1604222905709215744]   \n",
       "9  Bona nit 😉🎄 #streetphotography #fotografia #Ba...  [1604222897530224642]   \n",
       "\n",
       "                  id_y                           name         username  \n",
       "0  1071094302737088513                     Cornelius☠  Corneli66092024  \n",
       "1            234015473  joanescapa - Més que escaldat       joanescapa  \n",
       "2            259396697                      Toni Vall         tonivall  \n",
       "3            619181925              Josep Maria Rebés          JMRebes  \n",
       "4           3296831620                           Tona    TonarelliAgus  \n",
       "5           1081520083                           Clau  claubabylongirl  \n",
       "6  1283207016585068547              Matemático hípico  Matematicohipi1  \n",
       "7           2150299375                       ramon bm        ramonbamo  \n",
       "8  1458046672580358147  aprendelotodoytiraloalabasura   AprendelotodoY  \n",
       "9   984840763715530752                    La Chumbera        LChumbera  "
      ]
     },
     "execution_count": 17,
     "metadata": {},
     "output_type": "execute_result"
    }
   ],
   "source": [
    "users_df = pd.DataFrame(tweets['includes']['users'])\n",
    "data_df = pd.DataFrame(tweets['data'])\n",
    "data_df = pd.merge(data_df, users_df, left_on=['author_id'], right_on=['id'])\n",
    "data_df"
   ]
  },
  {
   "attachments": {},
   "cell_type": "markdown",
   "metadata": {},
   "source": [
    "### Analyzing users declared networks"
   ]
  },
  {
   "attachments": {},
   "cell_type": "markdown",
   "metadata": {},
   "source": [
    "#### Getting all followers and following relationships for the users"
   ]
  },
  {
   "attachments": {},
   "cell_type": "markdown",
   "metadata": {},
   "source": [
    "We first obtain a small dataframe with three users. The first from the previous dataframe, a follower, and a follower from this second user."
   ]
  },
  {
   "cell_type": "code",
   "execution_count": 20,
   "metadata": {},
   "outputs": [
    {
     "name": "stderr",
     "output_type": "stream",
     "text": [
      "Rate limit exceeded. Sleeping for 792 seconds.\n"
     ]
    }
   ],
   "source": [
    "graph_users_df = pd.DataFrame()\n",
    "\n",
    "graph_users_df1 = pd.DataFrame(client.get_users_followers(users_df.iloc[0]['id'])['data'][0], index=[0])\n",
    "graph_users_df2 = pd.DataFrame(client.get_users_followers(graph_users_df1.iloc[0]['id'])['data'][0], index=[0])\n",
    "graph_users_df3 = pd.DataFrame(client.get_users_followers(graph_users_df2.iloc[0]['id'])['data'][0], index=[0])\n",
    "graph_users_df = pd.concat([graph_users_df1, graph_users_df2, graph_users_df3])\n",
    "graph_users_df"
   ]
  },
  {
   "attachments": {},
   "cell_type": "markdown",
   "metadata": {},
   "source": [
    "Then we get all of these users in a simple data structure represented on a document oriented nosql database (Tinydb). The structure looks like:\n",
    "\n",
    "\"3391\": {\"id\": \"1508297808000032776\", \"username\": \"KeavieRominger\", \"name\": \"Keavie Rominger\", \"followers\": [ \" list of followers \"], \"followed_by\": [ \"list of accounts the user is following\" ] }"
   ]
  },
  {
   "cell_type": "code",
   "execution_count": 6,
   "metadata": {},
   "outputs": [],
   "source": [
    "!rm ./db.json\n",
    "db = TinyDB('./db.json')\n",
    "\n",
    "for index, row in graph_users_df.iterrows():\n",
    "\n",
    "    followers_list = []\n",
    "    for response in tweepy.Paginator(client.get_users_followers,\n",
    "                                    id = row['id'],\n",
    "                                    max_results=1000, \n",
    "                                    limit=10):\n",
    "        for user in response['data']:\n",
    "            followers_list.append(user)\n",
    "\n",
    "    followed_by_list = []\n",
    "    for response in tweepy.Paginator(client.get_users_following,\n",
    "                                    id = row['id'],\n",
    "                                    max_results=1000, \n",
    "                                    limit=10):\n",
    "        for user in response['data']:\n",
    "            followed_by_list.append(user)\n",
    "\n",
    "    User = Query()\n",
    "\n",
    "    for follower in followers_list:\n",
    "        if not (db.search(User.username == follower['username'])):\n",
    "            db.insert({'id': follower['id'], 'username': follower['username'], 'name': follower['name']})\n",
    "\n",
    "    for followed in followed_by_list:\n",
    "        if not (db.search(User.username == followed['username'])):\n",
    "            db.insert({'id': followed['id'], 'username': followed['username'], 'name': followed['name']}) \n",
    "\n",
    "    if not (db.search(User.username == row['username'])):\n",
    "        db.insert({'id': row['id'], 'username': row['username'], 'name': row['name'], 'followers': \n",
    "            [d['username'] for d in followers_list], 'followed_by': [d['username'] for d in followed_by_list]})\n",
    "    else:\n",
    "        db.update_multiple([\n",
    "            ({'followers': [d['username'] for d in followers_list]}, User.username == row['username']),\n",
    "            ({'followed_by': [d['username'] for d in followed_by_list]}, User.username == row['username']),\n",
    "        ])"
   ]
  },
  {
   "attachments": {},
   "cell_type": "markdown",
   "metadata": {},
   "source": [
    "#### Graph generation"
   ]
  },
  {
   "cell_type": "code",
   "execution_count": null,
   "metadata": {},
   "outputs": [],
   "source": [
    "G = nx.DiGraph()\n",
    "\n",
    "User = Query()\n",
    "users_w_followers = db.search(User.followers.exists())\n",
    "users_w_followed_by = db.search(User.followed_by.exists())\n",
    "\n",
    "for user in users_w_followers:\n",
    "        for follower in user['followers']:\n",
    "                G.add_edge(follower,  user['username'], color='green')\n",
    "\n",
    "for user in users_w_followed_by:\n",
    "        for followed_by in user['followed_by']:\n",
    "                G.add_edge(user['username'], followed_by, color='blue')\n",
    "\n",
    "nt = Network('1300px', '600px', select_menu = True, directed=True)\n",
    "nt.from_nx(G)\n",
    "nt.show_buttons(filter_=['physics'])\n",
    "nt.show('nx.html')"
   ]
  }
 ],
 "metadata": {
  "kernelspec": {
   "display_name": "Python 3.8.10 ('venv': venv)",
   "language": "python",
   "name": "python3"
  },
  "language_info": {
   "codemirror_mode": {
    "name": "ipython",
    "version": 3
   },
   "file_extension": ".py",
   "mimetype": "text/x-python",
   "name": "python",
   "nbconvert_exporter": "python",
   "pygments_lexer": "ipython3",
   "version": "3.8.10"
  },
  "orig_nbformat": 4,
  "vscode": {
   "interpreter": {
    "hash": "9c1223aa8e5b4c4b97cd2053f13fd728766d2d1f42e5e6b77419691a9e1900ff"
   }
  }
 },
 "nbformat": 4,
 "nbformat_minor": 2
}
