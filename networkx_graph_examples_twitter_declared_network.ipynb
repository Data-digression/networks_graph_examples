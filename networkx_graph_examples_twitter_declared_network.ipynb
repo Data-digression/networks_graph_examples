{
 "cells": [
  {
   "cell_type": "code",
   "execution_count": 1,
   "metadata": {},
   "outputs": [],
   "source": [
    "import tweepy\n",
    "import configparser \n",
    "import pandas as pd\n",
    "from tinydb import TinyDB, Query, Storage\n",
    "import networkx as nx\n",
    "import matplotlib as mpl\n",
    "import matplotlib.pyplot as plt\n",
    "import scipy\n",
    "from pyvis.network import Network\n"
   ]
  },
  {
   "cell_type": "code",
   "execution_count": 2,
   "metadata": {},
   "outputs": [],
   "source": [
    "config = configparser.ConfigParser(interpolation=None)\n",
    "config.read('config.ini')\n",
    "\n",
    "bearer_token = config['twitter']['bearer_token']\n",
    "client = tweepy.Client(bearer_token=bearer_token, return_type = dict, wait_on_rate_limit=True)\n"
   ]
  },
  {
   "attachments": {},
   "cell_type": "markdown",
   "metadata": {},
   "source": [
    "### Getting a basic list of tweets"
   ]
  },
  {
   "cell_type": "code",
   "execution_count": 3,
   "metadata": {},
   "outputs": [],
   "source": [
    "tweets = client.search_recent_tweets(\"barcelona\", expansions=['author_id'], user_fields=['username'], max_results=10)"
   ]
  },
  {
   "cell_type": "code",
   "execution_count": 4,
   "metadata": {},
   "outputs": [
    {
     "data": {
      "text/html": [
       "<div>\n",
       "<style scoped>\n",
       "    .dataframe tbody tr th:only-of-type {\n",
       "        vertical-align: middle;\n",
       "    }\n",
       "\n",
       "    .dataframe tbody tr th {\n",
       "        vertical-align: top;\n",
       "    }\n",
       "\n",
       "    .dataframe thead th {\n",
       "        text-align: right;\n",
       "    }\n",
       "</style>\n",
       "<table border=\"1\" class=\"dataframe\">\n",
       "  <thead>\n",
       "    <tr style=\"text-align: right;\">\n",
       "      <th></th>\n",
       "      <th>text</th>\n",
       "      <th>id_x</th>\n",
       "      <th>edit_history_tweet_ids</th>\n",
       "      <th>author_id</th>\n",
       "      <th>id_y</th>\n",
       "      <th>name</th>\n",
       "      <th>username</th>\n",
       "    </tr>\n",
       "  </thead>\n",
       "  <tbody>\n",
       "    <tr>\n",
       "      <th>0</th>\n",
       "      <td>Manchester United 3 Barcelona 0\\nECWC Q/F 2nd ...</td>\n",
       "      <td>1603790664093011969</td>\n",
       "      <td>[1603790664093011969]</td>\n",
       "      <td>2758212142</td>\n",
       "      <td>2758212142</td>\n",
       "      <td>Mal Winkles - Football Nostalgia</td>\n",
       "      <td>MemorabiliaMal</td>\n",
       "    </tr>\n",
       "    <tr>\n",
       "      <th>1</th>\n",
       "      <td>RT @brfootball: This mural of Achraf Hakimi an...</td>\n",
       "      <td>1603790662922649606</td>\n",
       "      <td>[1603790662922649606]</td>\n",
       "      <td>939819938</td>\n",
       "      <td>939819938</td>\n",
       "      <td>Taha Muhammad</td>\n",
       "      <td>tahamuhammad95</td>\n",
       "    </tr>\n",
       "    <tr>\n",
       "      <th>2</th>\n",
       "      <td>RT @brfootball: This mural of Achraf Hakimi an...</td>\n",
       "      <td>1603790662222360576</td>\n",
       "      <td>[1603790662222360576]</td>\n",
       "      <td>3499408878</td>\n",
       "      <td>3499408878</td>\n",
       "      <td>Calon Jenazah</td>\n",
       "      <td>khoirulwarisin_</td>\n",
       "    </tr>\n",
       "    <tr>\n",
       "      <th>3</th>\n",
       "      <td>RT @FabrizioRomano: Amrabat: “I’m proud to be ...</td>\n",
       "      <td>1603790661949575170</td>\n",
       "      <td>[1603790661949575170]</td>\n",
       "      <td>1475823556110045187</td>\n",
       "      <td>1475823556110045187</td>\n",
       "      <td>Lory Gagliotta</td>\n",
       "      <td>LG24Sports</td>\n",
       "    </tr>\n",
       "    <tr>\n",
       "      <th>4</th>\n",
       "      <td>Ousmane Dembele 🗣 :\"Messi olağanüstü bir oyunc...</td>\n",
       "      <td>1603790657285509120</td>\n",
       "      <td>[1603790657285509120]</td>\n",
       "      <td>2450463800</td>\n",
       "      <td>2450463800</td>\n",
       "      <td>Barcelona Turkey</td>\n",
       "      <td>FCBTURK</td>\n",
       "    </tr>\n",
       "    <tr>\n",
       "      <th>5</th>\n",
       "      <td>@OficialSala12 🏴󠁧󠁢󠁥󠁮󠁧󠁿 Chelsea: Drogba \\n🏴󠁧󠁢󠁥󠁮...</td>\n",
       "      <td>1603790656404688896</td>\n",
       "      <td>[1603790656404688896]</td>\n",
       "      <td>721053855442726913</td>\n",
       "      <td>721053855442726913</td>\n",
       "      <td>th</td>\n",
       "      <td>th14goef</td>\n",
       "    </tr>\n",
       "    <tr>\n",
       "      <th>6</th>\n",
       "      <td>RT @ArsenalBuzzCom: 🗞️| @standardsport: “Memph...</td>\n",
       "      <td>1603790650675191808</td>\n",
       "      <td>[1603790650675191808]</td>\n",
       "      <td>1173751473374670848</td>\n",
       "      <td>1173751473374670848</td>\n",
       "      <td>Neyogunnersz</td>\n",
       "      <td>neyogunnersz</td>\n",
       "    </tr>\n",
       "    <tr>\n",
       "      <th>7</th>\n",
       "      <td>Se me hace complicado hacer uso del transporte...</td>\n",
       "      <td>1603790650016731137</td>\n",
       "      <td>[1603790650016731137]</td>\n",
       "      <td>86278057</td>\n",
       "      <td>86278057</td>\n",
       "      <td>Txus Ballesteros 🦎</td>\n",
       "      <td>txusballesteros</td>\n",
       "    </tr>\n",
       "    <tr>\n",
       "      <th>8</th>\n",
       "      <td>Se planta y no quiere más jugadores del repres...</td>\n",
       "      <td>1603790646757785600</td>\n",
       "      <td>[1603790646757785600]</td>\n",
       "      <td>4838595123</td>\n",
       "      <td>4838595123</td>\n",
       "      <td>Mi Otra Liga</td>\n",
       "      <td>MiOtraLiga_MOL</td>\n",
       "    </tr>\n",
       "    <tr>\n",
       "      <th>9</th>\n",
       "      <td>RT @LaMusikalite: \"Barcelona no estaba prepara...</td>\n",
       "      <td>1603790643561697280</td>\n",
       "      <td>[1603790643561697280]</td>\n",
       "      <td>4274275815</td>\n",
       "      <td>4274275815</td>\n",
       "      <td>Esther ⚡️🪂</td>\n",
       "      <td>esthercobosm</td>\n",
       "    </tr>\n",
       "  </tbody>\n",
       "</table>\n",
       "</div>"
      ],
      "text/plain": [
       "                                                text                 id_x  \\\n",
       "0  Manchester United 3 Barcelona 0\\nECWC Q/F 2nd ...  1603790664093011969   \n",
       "1  RT @brfootball: This mural of Achraf Hakimi an...  1603790662922649606   \n",
       "2  RT @brfootball: This mural of Achraf Hakimi an...  1603790662222360576   \n",
       "3  RT @FabrizioRomano: Amrabat: “I’m proud to be ...  1603790661949575170   \n",
       "4  Ousmane Dembele 🗣 :\"Messi olağanüstü bir oyunc...  1603790657285509120   \n",
       "5  @OficialSala12 🏴󠁧󠁢󠁥󠁮󠁧󠁿 Chelsea: Drogba \\n🏴󠁧󠁢󠁥󠁮...  1603790656404688896   \n",
       "6  RT @ArsenalBuzzCom: 🗞️| @standardsport: “Memph...  1603790650675191808   \n",
       "7  Se me hace complicado hacer uso del transporte...  1603790650016731137   \n",
       "8  Se planta y no quiere más jugadores del repres...  1603790646757785600   \n",
       "9  RT @LaMusikalite: \"Barcelona no estaba prepara...  1603790643561697280   \n",
       "\n",
       "  edit_history_tweet_ids            author_id                 id_y  \\\n",
       "0  [1603790664093011969]           2758212142           2758212142   \n",
       "1  [1603790662922649606]            939819938            939819938   \n",
       "2  [1603790662222360576]           3499408878           3499408878   \n",
       "3  [1603790661949575170]  1475823556110045187  1475823556110045187   \n",
       "4  [1603790657285509120]           2450463800           2450463800   \n",
       "5  [1603790656404688896]   721053855442726913   721053855442726913   \n",
       "6  [1603790650675191808]  1173751473374670848  1173751473374670848   \n",
       "7  [1603790650016731137]             86278057             86278057   \n",
       "8  [1603790646757785600]           4838595123           4838595123   \n",
       "9  [1603790643561697280]           4274275815           4274275815   \n",
       "\n",
       "                               name         username  \n",
       "0  Mal Winkles - Football Nostalgia   MemorabiliaMal  \n",
       "1                     Taha Muhammad   tahamuhammad95  \n",
       "2                     Calon Jenazah  khoirulwarisin_  \n",
       "3                    Lory Gagliotta       LG24Sports  \n",
       "4                  Barcelona Turkey          FCBTURK  \n",
       "5                                th         th14goef  \n",
       "6                      Neyogunnersz     neyogunnersz  \n",
       "7                Txus Ballesteros 🦎  txusballesteros  \n",
       "8                      Mi Otra Liga   MiOtraLiga_MOL  \n",
       "9                        Esther ⚡️🪂     esthercobosm  "
      ]
     },
     "execution_count": 4,
     "metadata": {},
     "output_type": "execute_result"
    }
   ],
   "source": [
    "users_df = pd.DataFrame(tweets['includes']['users'])\n",
    "data_df = pd.DataFrame(tweets['data'])\n",
    "data_df = pd.merge(data_df, users_df, left_on=['author_id'], right_on=['id'])\n",
    "data_df"
   ]
  },
  {
   "attachments": {},
   "cell_type": "markdown",
   "metadata": {},
   "source": [
    "### Analyzing users declared networks"
   ]
  },
  {
   "attachments": {},
   "cell_type": "markdown",
   "metadata": {},
   "source": [
    "#### Getting all followers and following relationships for the users"
   ]
  },
  {
   "attachments": {},
   "cell_type": "markdown",
   "metadata": {},
   "source": [
    "We first obtain a small dataframe with three users. The first from the previous dataframe, a follower, and a follower from this second user."
   ]
  },
  {
   "cell_type": "code",
   "execution_count": 5,
   "metadata": {},
   "outputs": [
    {
     "name": "stderr",
     "output_type": "stream",
     "text": [
      "/tmp/ipykernel_3059/599280107.py:2: FutureWarning: The frame.append method is deprecated and will be removed from pandas in a future version. Use pandas.concat instead.\n",
      "  graph_users_df = graph_users_df.append(client.get_users_followers(users_df.iloc[0]['id'])['data'][0], ignore_index = True)\n",
      "/tmp/ipykernel_3059/599280107.py:3: FutureWarning: The frame.append method is deprecated and will be removed from pandas in a future version. Use pandas.concat instead.\n",
      "  graph_users_df = graph_users_df.append(client.get_users_followers(graph_users_df.iloc[0]['id'])['data'][0], ignore_index = True)\n",
      "/tmp/ipykernel_3059/599280107.py:4: FutureWarning: The frame.append method is deprecated and will be removed from pandas in a future version. Use pandas.concat instead.\n",
      "  graph_users_df = graph_users_df.append(client.get_users_followers(graph_users_df.iloc[1]['id'])['data'][0], ignore_index = True)\n"
     ]
    }
   ],
   "source": [
    "graph_users_df = pd.DataFrame()\n",
    "graph_users_df = graph_users_df.append(client.get_users_followers(users_df.iloc[0]['id'])['data'][0], ignore_index = True)\n",
    "graph_users_df = graph_users_df.append(client.get_users_followers(graph_users_df.iloc[0]['id'])['data'][0], ignore_index = True)\n",
    "graph_users_df = graph_users_df.append(client.get_users_followers(graph_users_df.iloc[1]['id'])['data'][0], ignore_index = True)"
   ]
  },
  {
   "attachments": {},
   "cell_type": "markdown",
   "metadata": {},
   "source": [
    "Then we get all of these users in a simple data structure represented on a document oriented nosql database (Tinydb). The structure looks like:\n",
    "\n",
    "\"3391\": {\"id\": \"1508297808000032776\", \"username\": \"KeavieRominger\", \"name\": \"Keavie Rominger\", \"followers\": [ \" list of followers \"], \"followed_by\": [ \"list of accounts the user is following\" ] }"
   ]
  },
  {
   "cell_type": "code",
   "execution_count": 6,
   "metadata": {},
   "outputs": [],
   "source": [
    "!rm ./db.json\n",
    "db = TinyDB('./db.json')\n",
    "\n",
    "for index, row in graph_users_df.iterrows():\n",
    "\n",
    "    followers_list = []\n",
    "    for response in tweepy.Paginator(client.get_users_followers,\n",
    "                                    id = row['id'],\n",
    "                                    max_results=1000, \n",
    "                                    limit=10):\n",
    "        for user in response['data']:\n",
    "            followers_list.append(user)\n",
    "\n",
    "    followed_by_list = []\n",
    "    for response in tweepy.Paginator(client.get_users_following,\n",
    "                                    id = row['id'],\n",
    "                                    max_results=1000, \n",
    "                                    limit=10):\n",
    "        for user in response['data']:\n",
    "            followed_by_list.append(user)\n",
    "\n",
    "    User = Query()\n",
    "\n",
    "    for follower in followers_list:\n",
    "        if not (db.search(User.username == follower['username'])):\n",
    "            db.insert({'id': follower['id'], 'username': follower['username'], 'name': follower['name']})\n",
    "\n",
    "    for followed in followed_by_list:\n",
    "        if not (db.search(User.username == followed['username'])):\n",
    "            db.insert({'id': followed['id'], 'username': followed['username'], 'name': followed['name']}) \n",
    "\n",
    "    if not (db.search(User.username == row['username'])):\n",
    "        db.insert({'id': row['id'], 'username': row['username'], 'name': row['name'], 'followers': \n",
    "            [d['username'] for d in followers_list], 'followed_by': [d['username'] for d in followed_by_list]})\n",
    "    else:\n",
    "        db.update_multiple([\n",
    "            ({'followers': [d['username'] for d in followers_list]}, User.username == row['username']),\n",
    "            ({'followed_by': [d['username'] for d in followed_by_list]}, User.username == row['username']),\n",
    "        ])"
   ]
  },
  {
   "attachments": {},
   "cell_type": "markdown",
   "metadata": {},
   "source": [
    "#### Graph generation"
   ]
  },
  {
   "cell_type": "code",
   "execution_count": null,
   "metadata": {},
   "outputs": [],
   "source": [
    "G = nx.DiGraph()\n",
    "\n",
    "User = Query()\n",
    "users_w_followers = db.search(User.followers.exists())\n",
    "users_w_followed_by = db.search(User.followed_by.exists())\n",
    "\n",
    "for user in users_w_followers:\n",
    "        for follower in user['followers']:\n",
    "                G.add_edge(follower,  user['username'], color='green')\n",
    "\n",
    "for user in users_w_followed_by:\n",
    "        for followed_by in user['followed_by']:\n",
    "                G.add_edge(user['username'], followed_by, color='blue')\n",
    "\n",
    "nt = Network('1300px', '600px', select_menu = True, directed=True)\n",
    "nt.from_nx(G)\n",
    "nt.show_buttons(filter_=['physics'])\n",
    "nt.show('nx.html')"
   ]
  }
 ],
 "metadata": {
  "kernelspec": {
   "display_name": "Python 3.8.10 ('venv': venv)",
   "language": "python",
   "name": "python3"
  },
  "language_info": {
   "codemirror_mode": {
    "name": "ipython",
    "version": 3
   },
   "file_extension": ".py",
   "mimetype": "text/x-python",
   "name": "python",
   "nbconvert_exporter": "python",
   "pygments_lexer": "ipython3",
   "version": "3.8.10 (default, Nov 14 2022, 12:59:47) \n[GCC 9.4.0]"
  },
  "orig_nbformat": 4,
  "vscode": {
   "interpreter": {
    "hash": "9c1223aa8e5b4c4b97cd2053f13fd728766d2d1f42e5e6b77419691a9e1900ff"
   }
  }
 },
 "nbformat": 4,
 "nbformat_minor": 2
}
